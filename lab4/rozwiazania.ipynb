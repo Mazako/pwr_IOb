{
 "cells": [
  {
   "cell_type": "code",
   "execution_count": 70,
   "metadata": {
    "ExecuteTime": {
     "end_time": "2024-03-28T16:43:50.444584Z",
     "start_time": "2024-03-28T16:43:50.440180Z"
    }
   },
   "outputs": [],
   "source": [
    "import struct\n",
    "import zlib\n",
    "\n",
    "import cv2\n",
    "import matplotlib.pyplot as plt\n",
    "import numpy\n",
    "import numpy as np\n",
    "from matplotlib import pyplot\n",
    "from scipy.fftpack import dct\n",
    "from scipy.fftpack import idct"
   ]
  },
  {
   "cell_type": "markdown",
   "metadata": {},
   "source": [
    "# Zadanie 1"
   ]
  },
  {
   "cell_type": "code",
   "execution_count": 71,
   "metadata": {
    "ExecuteTime": {
     "end_time": "2024-03-28T16:43:50.651689Z",
     "start_time": "2024-03-28T16:43:50.502388Z"
    }
   },
   "outputs": [],
   "source": [
    "plt.rcParams['figure.figsize'] = [10, 10]\n",
    "#\n",
    "# PPM file header\n",
    "#\n",
    "ppm_ascii_header = 'P3 400 400 255 '  # TODO: implement\n",
    "ppm_binary_header = 'P6 400 400 255 '  # TODO: implement\n",
    "\n",
    "#\n",
    "# Image data\n",
    "#\n",
    "image = numpy.array([255, 0, 0] * 400 * 400, dtype=numpy.uint8)  # TODO: implement\n",
    "\n",
    "#\n",
    "# Save the PPM image as an ASCII file\n",
    "#\n",
    "with open('./lab4-ascii.ppm', 'w') as fh:\n",
    "    fh.write(ppm_ascii_header)\n",
    "    image.tofile(fh, sep=' ')\n",
    "    fh.write('\\n')\n",
    "\n",
    "#\n",
    "# Save the PPM image as a binary file\n",
    "#\n",
    "with open('./lab4-binary.ppm', 'wb') as fh:\n",
    "    fh.write(bytearray(ppm_binary_header, 'ascii'))\n",
    "    image.tofile(fh)"
   ]
  },
  {
   "cell_type": "code",
   "execution_count": 72,
   "metadata": {
    "ExecuteTime": {
     "end_time": "2024-03-28T16:43:51.015612Z",
     "start_time": "2024-03-28T16:43:50.652708Z"
    }
   },
   "outputs": [
    {
     "data": {
      "text/plain": "<Figure size 1000x1000 with 2 Axes>",
      "image/png": "[encoded data removed]"
     },
     "metadata": {},
     "output_type": "display_data"
    }
   ],
   "source": [
    "fig, ax = plt.subplots(1, 2)\n",
    "binary_file = cv2.imread('lab4-binary.ppm')\n",
    "ascii_file = cv2.imread('lab4-ascii.ppm')\n",
    "\n",
    "ax[0].imshow(cv2.cvtColor(binary_file, cv2.COLOR_BGR2RGB))\n",
    "ax[0].set_title('PPM (binary)')\n",
    "ax[1].imshow(cv2.cvtColor(ascii_file, cv2.COLOR_BGR2RGB))\n",
    "ax[1].set_title('PPM (ASCII)')\n",
    "plt.show()"
   ]
  },
  {
   "cell_type": "markdown",
   "metadata": {},
   "source": [
    "# Zadanie 2"
   ]
  },
  {
   "cell_type": "code",
   "execution_count": 73,
   "metadata": {
    "ExecuteTime": {
     "end_time": "2024-03-28T16:43:51.173362Z",
     "start_time": "2024-03-28T16:43:51.016621Z"
    }
   },
   "outputs": [],
   "source": [
    "def rgb_range_0_255():\n",
    "    return np.linspace(0, 255, 256, dtype=np.uint8)\n",
    "\n",
    "\n",
    "def rgb_range_255_0():\n",
    "    return np.linspace(255, 0, 256, dtype=np.uint8)\n",
    "\n",
    "\n",
    "rainbow_image = np.array([\n",
    "    np.array([[0, 0, x] for x in rgb_range_0_255()]),\n",
    "    np.array([[0, x, 255] for x in rgb_range_0_255()]),\n",
    "    np.array([[0, 255, x] for x in rgb_range_255_0()]),\n",
    "    np.array([[x, 255, 0] for x in rgb_range_0_255()]),\n",
    "    np.array([[255, x, 0] for x in rgb_range_255_0()]),\n",
    "    np.array([[255, 0, x] for x in rgb_range_0_255()]),\n",
    "    np.array([[255, x, 255] for x in rgb_range_0_255()]),\n",
    "], dtype=np.uint8).flatten()\n",
    "\n",
    "height = 100\n",
    "ppm_header = f'P3 {len(rainbow_image) // 3} {height} 255 '\n",
    "\n",
    "rainbow_image = np.tile(rainbow_image, height)\n",
    "\n",
    "with open('lab4-rainbow.ppm', 'w') as file:\n",
    "    file.write(ppm_header)\n",
    "    rainbow_image.tofile(file, sep=' ')\n",
    "    file.write('\\n')"
   ]
  },
  {
   "cell_type": "code",
   "execution_count": 74,
   "metadata": {
    "ExecuteTime": {
     "end_time": "2024-03-28T16:43:51.354177Z",
     "start_time": "2024-03-28T16:43:51.174371Z"
    }
   },
   "outputs": [
    {
     "data": {
      "text/plain": "<matplotlib.image.AxesImage at 0x226b7e76410>"
     },
     "execution_count": 74,
     "metadata": {},
     "output_type": "execute_result"
    },
    {
     "data": {
      "text/plain": "<Figure size 1000x1000 with 1 Axes>",
      "image/png": "[encoded data removed]"
     },
     "metadata": {},
     "output_type": "display_data"
    }
   ],
   "source": [
    "#\n",
    "# Display image\n",
    "#\n",
    "\n",
    "binary_file = cv2.imread('lab4-rainbow.ppm')\n",
    "pyplot.imshow(cv2.cvtColor(binary_file, cv2.COLOR_BGR2RGB))"
   ]
  },
  {
   "cell_type": "markdown",
   "metadata": {},
   "source": [
    "# Zadanie 3"
   ]
  },
  {
   "cell_type": "code",
   "execution_count": 75,
   "metadata": {
    "ExecuteTime": {
     "end_time": "2024-03-28T16:43:51.362700Z",
     "start_time": "2024-03-28T16:43:51.355183Z"
    }
   },
   "outputs": [],
   "source": [
    "\n",
    "def write_to_png(_image, filename):\n",
    "    h = len(_image)\n",
    "    w = len(_image[0])\n",
    "\n",
    "    png_file_signature = b'\\x89PNG\\r\\n\\x1a\\n'\n",
    "\n",
    "    header_id = b'IHDR'\n",
    "    header_content = struct.pack('!IIBBBBB', w, h, 8, 2, 0, 0, 0)\n",
    "    header_size = struct.pack('!I', len(header_content))\n",
    "    header_crc = struct.pack('!I', zlib.crc32(header_id + header_content))\n",
    "    png_file_header = header_size + header_id + header_content + header_crc\n",
    "\n",
    "    data_id = b'IDAT'\n",
    "    data_content = zlib.compress(b''.join([b'\\x00' + bytes(row) for row in _image]))\n",
    "    data_size = struct.pack('!I', len(data_content))\n",
    "    data_crc = struct.pack('!I', zlib.crc32(data_id + data_content))\n",
    "    png_file_data = data_size + data_id + data_content + data_crc\n",
    "\n",
    "    end_id = b'IEND'\n",
    "    end_content = b''\n",
    "    end_size = struct.pack('!I', len(end_content))\n",
    "    end_crc = struct.pack('!I', zlib.crc32(end_id + end_content))\n",
    "    png_file_end = end_size + end_id + end_content + end_crc\n",
    "\n",
    "    with open(filename, 'wb') as _fh:\n",
    "        _fh.write(png_file_signature)\n",
    "        _fh.write(png_file_header)\n",
    "        _fh.write(png_file_data)\n",
    "        _fh.write(png_file_end)"
   ]
  },
  {
   "cell_type": "code",
   "execution_count": 76,
   "metadata": {
    "ExecuteTime": {
     "end_time": "2024-03-28T16:43:51.515666Z",
     "start_time": "2024-03-28T16:43:51.363711Z"
    }
   },
   "outputs": [
    {
     "data": {
      "text/plain": "<matplotlib.image.AxesImage at 0x226b942bb50>"
     },
     "execution_count": 76,
     "metadata": {},
     "output_type": "execute_result"
    },
    {
     "data": {
      "text/plain": "<Figure size 1000x1000 with 1 Axes>",
      "image/png": "[encoded data removed]"
     },
     "metadata": {},
     "output_type": "display_data"
    }
   ],
   "source": [
    "image = rainbow_image.copy().reshape(height, 1792, 3)\n",
    "\n",
    "write_to_png(image, 'lab4.png')\n",
    "binary_file = cv2.imread('lab4.png')\n",
    "pyplot.imshow(cv2.cvtColor(binary_file, cv2.COLOR_BGR2RGB))"
   ]
  },
  {
   "cell_type": "markdown",
   "metadata": {},
   "source": [
    "# Funkcje pomocnicze do zadań 4 i 5"
   ]
  },
  {
   "cell_type": "code",
   "execution_count": 77,
   "metadata": {
    "ExecuteTime": {
     "end_time": "2024-03-28T16:43:51.535496Z",
     "start_time": "2024-03-28T16:43:51.516672Z"
    }
   },
   "outputs": [],
   "source": [
    "#\n",
    "# 2d Discrete Cosinus Transform\n",
    "#\n",
    "def dct2(array):\n",
    "    return dct(dct(array, axis=0, norm='ortho'), axis=1, norm='ortho')\n",
    "\n",
    "\n",
    "def idct2(array):\n",
    "    return idct(idct(array, axis=0, norm='ortho'), axis=1, norm='ortho')\n",
    "\n",
    "\n",
    "#\n",
    "# Calculate quantisation matrices\n",
    "#\n",
    "# Based on: https://www.hdm-stuttgart.de/~maucher/Python/MMCodecs/html/jpegUpToQuant.html\n",
    "#           #step-3-and-4-discrete-cosinus-transform-and-quantisation\n",
    "#\n",
    "_QY = numpy.array([[16, 11, 10, 16, 24, 40, 51, 61],\n",
    "                   [12, 12, 14, 19, 26, 48, 60, 55],\n",
    "                   [14, 13, 16, 24, 40, 57, 69, 56],\n",
    "                   [14, 17, 22, 29, 51, 87, 80, 62],\n",
    "                   [18, 22, 37, 56, 68, 109, 103, 77],\n",
    "                   [24, 35, 55, 64, 81, 104, 113, 92],\n",
    "                   [49, 64, 78, 87, 103, 121, 120, 101],\n",
    "                   [72, 92, 95, 98, 112, 100, 103, 99]])\n",
    "\n",
    "_QC = numpy.array([[17, 18, 24, 47, 99, 99, 99, 99],\n",
    "                   [18, 21, 26, 66, 99, 99, 99, 99],\n",
    "                   [24, 26, 56, 99, 99, 99, 99, 99],\n",
    "                   [47, 66, 99, 99, 99, 99, 99, 99],\n",
    "                   [99, 99, 99, 99, 99, 99, 99, 99],\n",
    "                   [99, 99, 99, 99, 99, 99, 99, 99],\n",
    "                   [99, 99, 99, 99, 99, 99, 99, 99],\n",
    "                   [99, 99, 99, 99, 99, 99, 99, 99]])\n",
    "\n",
    "\n",
    "def _scale(QF):\n",
    "    if QF < 50 and QF >= 1:\n",
    "        scale = numpy.floor(5000 / QF)\n",
    "    elif QF < 100:\n",
    "        scale = 200 - 2 * QF\n",
    "    else:\n",
    "        raise ValueError('Quality Factor must be in the range [1..99]')\n",
    "\n",
    "    scale = scale / 100.0\n",
    "    return scale\n",
    "\n",
    "\n",
    "def QY(QF=85):\n",
    "    return _QY * _scale(QF)\n",
    "\n",
    "\n",
    "def QC(QF=85):\n",
    "    return _QC * _scale(QF)\n",
    "\n",
    "\n",
    "def divide_8x8(array):\n",
    "    new_h = array.shape[0] // 8\n",
    "    new_w = array.shape[1] // 8\n",
    "    blocks = np.zeros((new_h, new_w, 8, 8))\n",
    "    for i in range(new_h):\n",
    "        for j in range(new_w):\n",
    "            blocks[i, j, :, :] = array[i*8:(i+1)*8, j*8:(j+1)*8]\n",
    "    return blocks\n",
    "    \n",
    "def merge_8x8(array):\n",
    "    new_h = array.shape[0] * 8\n",
    "    new_w = array.shape[1] * 8\n",
    "    merged = np.zeros((new_h, new_w))\n",
    "    for i in range(array.shape[0]):\n",
    "        for j in range(array.shape[1]):\n",
    "            merged[i*8:(i+1)*8, j*8:(j+1)*8] = array[i, j, :, :]\n",
    "    return merged\n",
    "\n",
    "def zig_zag(block):\n",
    "    flat = []\n",
    "    w, h = len(block), len(block[0])\n",
    "    for i in range(w + h - 1):\n",
    "        if i % 2 == 0:\n",
    "            row = min(i, w - 1)\n",
    "            col = max(0, i - w + 1)\n",
    "            while row >= 0 and col < h:\n",
    "                flat.append(block[row][col])\n",
    "                row -= 1\n",
    "                col += 1\n",
    "        else:\n",
    "            row = max(i, h-1)\n",
    "            col = max(0, i - h + 1)\n",
    "            while col >= 0 and row < w:\n",
    "                flat.append(block[row][col])\n",
    "                row += 1\n",
    "                col -= 1\n",
    "    return np.array(flat, np.int32)\n",
    "            "
   ]
  },
  {
   "cell_type": "markdown",
   "metadata": {},
   "source": [
    "# Zadania 4 i 5"
   ]
  },
  {
   "cell_type": "code",
   "execution_count": 78,
   "metadata": {
    "ExecuteTime": {
     "end_time": "2024-03-28T16:43:52.596102Z",
     "start_time": "2024-03-28T16:43:51.537589Z"
    }
   },
   "outputs": [
    {
     "name": "stdout",
     "output_type": "stream",
     "text": [
      "12187 6920 5001\n"
     ]
    }
   ],
   "source": [
    "def jpeg_conversion(src_filename, dest_filename, compression_rate, QF=85):\n",
    "    img = cv2.imread(src_filename)\n",
    "    img = cv2.cvtColor(img, cv2.COLOR_BGR2RGB)\n",
    "    h, w, c = img.shape\n",
    "    original_w = w\n",
    "    original_h = h\n",
    "    needs_resize = False\n",
    "    if w % (compression_rate * 8) != 0:\n",
    "        w -= w % (compression_rate * 8)\n",
    "        needs_resize = True\n",
    "    \n",
    "    if h % (compression_rate * 8) != 0:\n",
    "        h -= h % (compression_rate * 8)\n",
    "        needs_resize = True\n",
    "    \n",
    "    if needs_resize:\n",
    "        img = cv2.resize(img, (w, h))\n",
    "        h, w, c = img.shape\n",
    "    \n",
    "    # 1. Convert RGB to YCbCr\n",
    "    img = cv2.cvtColor(img, cv2.COLOR_RGB2YCR_CB)\n",
    "    \n",
    "    # 2. Downsampling on Cb and Cr channels\n",
    "    y = img[:, :, 0]\n",
    "    cr = img[:, :, 1]\n",
    "    if compression_rate != 1:\n",
    "        cr = cv2.pyrDown(cr)\n",
    "        if compression_rate == 4:\n",
    "            cr = cv2.pyrDown(cr)\n",
    "    \n",
    "    cb = img[:, :, 2]\n",
    "    if compression_rate != 1:\n",
    "        cb = cv2.pyrDown(cb)\n",
    "        if compression_rate == 4:\n",
    "            cb = cv2.pyrDown(cb)\n",
    "            \n",
    "    # 3. Produce 8x8 blocks\n",
    "    blocks_y = divide_8x8(y)\n",
    "    blocks_cb = divide_8x8(cb)\n",
    "    blocks_cr = divide_8x8(cr)\n",
    "    \n",
    "    # # 4. Calculate DCT on each block\n",
    "    blocks_y = np.array([[dct2(block) for block in row] for row in blocks_y])\n",
    "    blocks_cb = np.array([[dct2(block) for block in row] for row in blocks_cb])\n",
    "    blocks_cr = np.array([[dct2(block) for block in row] for row in blocks_cr])\n",
    "    \n",
    "    # 5. Divide each block by quantisation matrix\n",
    "    # 6. Round values in each block to integers\n",
    "    \n",
    "    blocks_y = np.array([[block / QY(QF) for block in row] for row in blocks_y], dtype=np.int32)\n",
    "    blocks_cb = np.array([[block / QC(QF) for block in row] for row in blocks_cb], dtype=np.int32)\n",
    "    blocks_cr = np.array([[block / QC(QF) for block in row] for row in blocks_cr], dtype=np.int32)\n",
    "    \n",
    "    # 7. Zig Zag\n",
    "    # TODO: implement (zad. 4)\n",
    "    flat_y = np.array([[zig_zag(block) for block in row] for row in blocks_y], dtype=np.int32)\n",
    "    flat_cb = np.array([[zig_zag(block) for block in row] for row in blocks_cb], dtype=np.int32)\n",
    "    flat_cr = np.array([[zig_zag(block) for block in row] for row in blocks_cr], dtype=np.int32)\n",
    "    \n",
    "    # 8. Flatten, concatenate, compress and calculate the size -- how many bytes?\n",
    "    # TODO: implement (zad. 4)\n",
    "    bytes_image = zlib.compress(b'' + bytes(flat_y.flatten()) + bytes(flat_cb.flatten()) + bytes(flat_cr.flatten()))\n",
    "    size = len(bytes_image)\n",
    "    \n",
    "    # 7'. Undo Zig Zag\n",
    "    \n",
    "    # 5'. Reverse division by quantisation matrix -- multiply\n",
    "    blocks_y = np.array([[block * QY(QF) for block in row] for row in blocks_y])\n",
    "    blocks_cb = np.array([[block * QC(QF) for block in row] for row in blocks_cb])\n",
    "    blocks_cr = np.array([[block * QC(QF) for block in row] for row in blocks_cr])\n",
    "    \n",
    "    # 4'. Reverse DCT\n",
    "    blocks_y = np.array([[idct2(block) for block in row] for row in blocks_y])\n",
    "    blocks_cb = np.array([[idct2(block) for block in row] for row in blocks_cb])\n",
    "    blocks_cr = np.array([[idct2(block) for block in row] for row in blocks_cr])\n",
    "    \n",
    "    # 3'. Combine 8x8 blocks to original image\n",
    "    y = merge_8x8(blocks_y)\n",
    "    cb = merge_8x8(blocks_cb)\n",
    "    cr = merge_8x8(blocks_cr)\n",
    "    \n",
    "    # 2'. Upsampling on Cb and Cr channels\n",
    "    if compression_rate != 1:\n",
    "        cb = cv2.pyrUp(cb)\n",
    "        cr = cv2.pyrUp(cr)\n",
    "        if compression_rate == 4:\n",
    "            cb = cv2.pyrUp(cb)\n",
    "            cr = cv2.pyrUp(cr)\n",
    "    \n",
    "    \n",
    "    # 1'. Convert YCbCr to RGB\n",
    "    encoded_image = np.empty((h, w, 3), np.uint8)\n",
    "    encoded_image[:, :, 0] = y\n",
    "    encoded_image[:, :, 1] = cr\n",
    "    encoded_image[:, :, 2] = cb\n",
    "    encoded_image = cv2.cvtColor(encoded_image, cv2.COLOR_YCR_CB2RGB)\n",
    "    if needs_resize:\n",
    "        encoded_image = cv2.resize(encoded_image, (original_w, original_h))\n",
    "    \n",
    "    # 0'. Save the decoded image -- as PPM or PNG\n",
    "    write_to_png(encoded_image, dest_filename)\n",
    "    return size\n",
    "    \n",
    "size_1 = jpeg_conversion('lab4.png', 'lab4_jpeg_1.png', 1)\n",
    "size_2 = jpeg_conversion('lab4.png', 'lab4_jpeg_2.png', 2)\n",
    "size_3 = jpeg_conversion('lab4.png', 'lab4_jpeg_4.png', 4)\n",
    "print(size_1, size_2, size_3)"
   ]
  },
  {
   "cell_type": "code",
   "execution_count": 79,
   "metadata": {
    "ExecuteTime": {
     "end_time": "2024-03-28T16:43:53.087661Z",
     "start_time": "2024-03-28T16:43:52.597112Z"
    }
   },
   "outputs": [
    {
     "data": {
      "text/plain": "<matplotlib.image.AxesImage at 0x226b764d6d0>"
     },
     "execution_count": 79,
     "metadata": {},
     "output_type": "execute_result"
    },
    {
     "data": {
      "text/plain": "<Figure size 1000x1000 with 3 Axes>",
      "image/png": "[encoded data removed]"
     },
     "metadata": {},
     "output_type": "display_data"
    }
   ],
   "source": [
    "#\n",
    "# Display image\n",
    "#\n",
    "fif, ax = plt.subplots(3)\n",
    "ax[0].imshow(cv2.cvtColor(cv2.imread('lab4_jpeg_1.png'), cv2.COLOR_BGR2RGB))\n",
    "ax[1].imshow(cv2.cvtColor(cv2.imread('lab4_jpeg_2.png'), cv2.COLOR_BGR2RGB))\n",
    "ax[2].imshow(cv2.cvtColor(cv2.imread('lab4_jpeg_4.png'), cv2.COLOR_BGR2RGB))"
   ]
  },
  {
   "cell_type": "markdown",
   "metadata": {},
   "source": [
    "# Obserwacje z zadań 4 i 5"
   ]
  },
  {
   "cell_type": "code",
   "execution_count": 79,
   "metadata": {
    "ExecuteTime": {
     "end_time": "2024-03-28T16:43:53.092380Z",
     "start_time": "2024-03-28T16:43:53.089789Z"
    }
   },
   "outputs": [],
   "source": []
  }
 ],
 "metadata": {
  "kernelspec": {
   "display_name": "Python 3",
   "language": "python",
   "name": "python3"
  },
  "language_info": {
   "codemirror_mode": {
    "name": "ipython",
    "version": 3
   },
   "file_extension": ".py",
   "mimetype": "text/x-python",
   "name": "python",
   "nbconvert_exporter": "python",
   "pygments_lexer": "ipython3",
   "version": "3.9.2"
  }
 },
 "nbformat": 4,
 "nbformat_minor": 4
}
