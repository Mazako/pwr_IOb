{
 "cells": [
  {
   "cell_type": "markdown",
   "metadata": {},
   "source": [
    "# Zadanie 1"
   ]
  },
  {
   "cell_type": "code",
   "execution_count": 191,
   "metadata": {
    "ExecuteTime": {
     "end_time": "2024-03-04T18:58:41.998416Z",
     "start_time": "2024-03-04T18:58:41.994396Z"
    }
   },
   "outputs": [
    {
     "name": "stdout",
     "output_type": "stream",
     "text": [
      "Witom świecie\n"
     ]
    }
   ],
   "source": [
    "print('Witom świecie')"
   ]
  },
  {
   "cell_type": "markdown",
   "metadata": {},
   "source": [
    "# Zadanie 2"
   ]
  },
  {
   "cell_type": "code",
   "execution_count": 192,
   "metadata": {
    "ExecuteTime": {
     "end_time": "2024-03-04T18:58:42.032400Z",
     "start_time": "2024-03-04T18:58:42.028941Z"
    }
   },
   "outputs": [
    {
     "name": "stdout",
     "output_type": "stream",
     "text": [
      "  _______________\n",
      "| Niezły kitty xD |\n",
      "  ===============\n",
      "                  \\\n",
      "                   \\\n",
      "                    \\\n",
      "                     \\\n",
      "                      (\"`-'  '-/\") .___..--' ' \"`-._\n",
      "                       ` *_ *  )    `-.   (      ) .`-.__. `)\n",
      "                        (_Y_.) ' ._   )   `._` ;  `` -. .-'\n",
      "                     _.. `--'_..-_/   /--' _ .' ,4\n",
      "                    ( i l ),-''  ( l i),'  ( ( ! .-'\n"
     ]
    }
   ],
   "source": [
    "import cowsay\n",
    "cowsay.kitty(\"Niezły kitty xD\")"
   ]
  },
  {
   "cell_type": "markdown",
   "metadata": {},
   "source": [
    "# Zadanie 3"
   ]
  },
  {
   "cell_type": "code",
   "execution_count": 193,
   "metadata": {
    "ExecuteTime": {
     "end_time": "2024-03-04T18:58:42.039894Z",
     "start_time": "2024-03-04T18:58:42.034938Z"
    }
   },
   "outputs": [],
   "source": [
    "# Funkcja: sin(x) + x**2\n",
    "import math\n",
    "\n",
    "with open('./math_io/input.txt', 'r') as _input:\n",
    "    with open('./math_io/output.txt', 'w') as _output:\n",
    "        results = [f'{int(x)} {math.sin(int(x)) + int(x) ** 2}\\n' for x in _input.readlines()]\n",
    "        _output.writelines(results)\n",
    "        "
   ]
  },
  {
   "cell_type": "markdown",
   "metadata": {},
   "source": [
    "# Zadanie 4"
   ]
  },
  {
   "cell_type": "code",
   "execution_count": 194,
   "metadata": {
    "ExecuteTime": {
     "end_time": "2024-03-04T18:58:42.055445Z",
     "start_time": "2024-03-04T18:58:42.042961Z"
    }
   },
   "outputs": [
    {
     "name": "stdout",
     "output_type": "stream",
     "text": [
      "Bułka (0.59 zł) x 5, Makaron (7.99 zł) x 1, Ser (9.99 zł) x 2, \n",
      "8\n",
      "30.92\n",
      "Bułka (0.59 zł) x 6, Makaron (7.99 zł) x 1, Ser (9.99 zł) x 2, \n",
      "9\n",
      "Bułka (0.59 zł) x 6, Makaron (7.99 zł) x 0, Ser (9.99 zł) x 2, \n",
      "8\n",
      "Bułka (0.59 zł) x 6, Makaron (7.99 zł) x 0, Ser (9.99 zł) x 2, \n",
      "23.52\n"
     ]
    }
   ],
   "source": [
    "import functools\n",
    "\n",
    "class Product:\n",
    "    def __init__(self, name: str, price: float, quantity: int):\n",
    "        self.name: str = name\n",
    "        self.price: float = price\n",
    "        self.quantity: int = quantity\n",
    "        \n",
    "    def __str__(self):\n",
    "        return f'{self.name} ({self.price} zł)'\n",
    "\n",
    "\n",
    "class Cart:\n",
    "    def __init__(self):\n",
    "        self.list: list[Product] = [\n",
    "            Product('Bułka', 0.59, 5),\n",
    "            Product('Makaron', 7.99, 1),\n",
    "            Product('Ser', 9.99, 2)\n",
    "        ]\n",
    "    \n",
    "    def __iter__(self):\n",
    "        self._i = 0\n",
    "        return self\n",
    "    \n",
    "    def __next__(self):\n",
    "        if self._i >= len(self.list):\n",
    "            raise StopIteration\n",
    "        _product = self.list[self._i]\n",
    "        self._i += 1\n",
    "        return _product\n",
    "        \n",
    "    \n",
    "    def __str__(self):\n",
    "        return functools.reduce(lambda a, b: a + f'{str(b)} x {b.quantity}, ', self.list, '')\n",
    "    \n",
    "    def __len__(self):\n",
    "        return sum(map(lambda p: p.quantity, self.list))\n",
    "    \n",
    "    def total_price(self) -> float:\n",
    "        return functools.reduce(lambda a, b: a + (b.price * b.quantity), self.list, .0)\n",
    "    \n",
    "    def add(self, product_name: str) -> None:\n",
    "        self._find_and_increment(product_name, 1)\n",
    "        \n",
    "    def remove(self, product_name: str) -> None:\n",
    "        self._find_and_increment(product_name, -1)\n",
    "        \n",
    "    def _find_and_increment(self, product_name: str, amount: int) -> None:\n",
    "        _product = list(filter(lambda p: p.name == product_name, self.list))\n",
    "        if _product:\n",
    "            _product[0].quantity = max(0, _product[0].quantity + amount)\n",
    "\n",
    "\n",
    "cart = Cart()\n",
    "print(cart)\n",
    "print(len(cart))\n",
    "print(cart.total_price())\n",
    "cart.add('Bułka')\n",
    "print(cart)\n",
    "print(len(cart))\n",
    "cart.remove('Makaron')\n",
    "print(cart)\n",
    "print(len(cart))\n",
    "cart.remove('Kaszanka')\n",
    "print(cart)\n",
    "print(cart.total_price())"
   ]
  },
  {
   "cell_type": "markdown",
   "metadata": {},
   "source": [
    "# Zadanie 5"
   ]
  },
  {
   "cell_type": "code",
   "execution_count": 195,
   "metadata": {
    "ExecuteTime": {
     "end_time": "2024-03-04T18:58:42.062447Z",
     "start_time": "2024-03-04T18:58:42.057387Z"
    }
   },
   "outputs": [
    {
     "name": "stdout",
     "output_type": "stream",
     "text": [
      "Bułka (0.59 zł) x 5, Makaron (7.99 zł) x 1, Ser (9.99 zł) x 2, \n",
      "8\n",
      "ITERUJEMY KOSZYK\n",
      "Bułka (0.59 zł)\n",
      "Makaron (7.99 zł)\n",
      "Ser (9.99 zł)\n"
     ]
    }
   ],
   "source": [
    "cart = Cart()\n",
    "print(cart)\n",
    "print(len(cart))\n",
    "print(\"ITERUJEMY KOSZYK\")\n",
    "for product in cart:\n",
    "    print(product)"
   ]
  }
 ],
 "metadata": {
  "kernelspec": {
   "display_name": "Python 3",
   "language": "python",
   "name": "python3"
  },
  "language_info": {
   "codemirror_mode": {
    "name": "ipython",
    "version": 3
   },
   "file_extension": ".py",
   "mimetype": "text/x-python",
   "name": "python",
   "nbconvert_exporter": "python",
   "pygments_lexer": "ipython3",
   "version": "3.9.2"
  }
 },
 "nbformat": 4,
 "nbformat_minor": 4
}
