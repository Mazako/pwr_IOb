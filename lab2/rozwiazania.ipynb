{
 "cells": [
  {
   "cell_type": "markdown",
   "metadata": {},
   "source": [
    "# Zadanie 1"
   ]
  },
  {
   "cell_type": "code",
   "execution_count": 72,
   "metadata": {
    "ExecuteTime": {
     "end_time": "2024-03-04T15:09:06.532072Z",
     "start_time": "2024-03-04T15:09:06.522733Z"
    }
   },
   "outputs": [
    {
     "name": "stdout",
     "output_type": "stream",
     "text": [
      "Witom świecie\n"
     ]
    }
   ],
   "source": [
    "print('Witom świecie')"
   ]
  },
  {
   "cell_type": "markdown",
   "metadata": {},
   "source": [
    "# Zadanie 2"
   ]
  },
  {
   "cell_type": "code",
   "execution_count": 73,
   "metadata": {
    "ExecuteTime": {
     "end_time": "2024-03-04T15:09:06.580331Z",
     "start_time": "2024-03-04T15:09:06.574516Z"
    }
   },
   "outputs": [
    {
     "name": "stdout",
     "output_type": "stream",
     "text": [
      "  _______________\n",
      "| Niezły kitty xD |\n",
      "  ===============\n",
      "                  \\\n",
      "                   \\\n",
      "                    \\\n",
      "                     \\\n",
      "                      (\"`-'  '-/\") .___..--' ' \"`-._\n",
      "                       ` *_ *  )    `-.   (      ) .`-.__. `)\n",
      "                        (_Y_.) ' ._   )   `._` ;  `` -. .-'\n",
      "                     _.. `--'_..-_/   /--' _ .' ,4\n",
      "                    ( i l ),-''  ( l i),'  ( ( ! .-'\n"
     ]
    }
   ],
   "source": [
    "import cowsay\n",
    "cowsay.kitty(\"Niezły kitty xD\")"
   ]
  },
  {
   "cell_type": "markdown",
   "metadata": {},
   "source": [
    "# Zadanie 3"
   ]
  },
  {
   "cell_type": "code",
   "execution_count": 74,
   "metadata": {
    "ExecuteTime": {
     "end_time": "2024-03-04T15:09:06.611055Z",
     "start_time": "2024-03-04T15:09:06.600106Z"
    }
   },
   "outputs": [],
   "source": [
    "# Funkcja: sin(x) + x**2\n",
    "import math\n",
    "\n",
    "with open('math_io/input.txt', 'r') as _input:\n",
    "    with open('math_io/output.txt', 'w') as _output:\n",
    "        \n",
    "        results = list(map(lambda x: f'{int(x)} {math.sin(int(x)) + int(x) ** 2}\\n', _input.readlines()))\n",
    "        _output.writelines(results)\n",
    "        "
   ]
  },
  {
   "cell_type": "markdown",
   "metadata": {},
   "source": [
    "# Zadanie 4"
   ]
  },
  {
   "cell_type": "code",
   "execution_count": 75,
   "metadata": {
    "ExecuteTime": {
     "end_time": "2024-03-04T15:09:06.620295Z",
     "start_time": "2024-03-04T15:09:06.614563Z"
    }
   },
   "outputs": [],
   "source": [
    "#\n",
    "# tu umieść kod\n",
    "#"
   ]
  },
  {
   "cell_type": "markdown",
   "metadata": {},
   "source": [
    "# Zadanie 5"
   ]
  },
  {
   "cell_type": "code",
   "execution_count": 76,
   "metadata": {
    "ExecuteTime": {
     "end_time": "2024-03-04T15:09:06.641198Z",
     "start_time": "2024-03-04T15:09:06.635634Z"
    }
   },
   "outputs": [],
   "source": [
    "#\n",
    "# tu umieść kod\n",
    "#"
   ]
  }
 ],
 "metadata": {
  "kernelspec": {
   "display_name": "Python 3",
   "language": "python",
   "name": "python3"
  },
  "language_info": {
   "codemirror_mode": {
    "name": "ipython",
    "version": 3
   },
   "file_extension": ".py",
   "mimetype": "text/x-python",
   "name": "python",
   "nbconvert_exporter": "python",
   "pygments_lexer": "ipython3",
   "version": "3.9.2"
  }
 },
 "nbformat": 4,
 "nbformat_minor": 4
}
