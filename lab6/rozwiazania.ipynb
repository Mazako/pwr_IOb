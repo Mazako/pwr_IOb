{
 "cells": [
  {
   "cell_type": "code",
   "metadata": {
    "ExecuteTime": {
     "end_time": "2024-04-25T19:15:12.656737Z",
     "start_time": "2024-04-25T19:15:12.644661Z"
    }
   },
   "source": [
    "import cv2\n",
    "import numpy\n",
    "import numpy as np\n",
    "from matplotlib import pyplot\n",
    "\n",
    "# Ustawienie rozmarów wyświetlanych obrazów\n",
    "pyplot.rcParams[\"figure.figsize\"] = (18, 10)"
   ],
   "outputs": [],
   "execution_count": 179
  },
  {
   "cell_type": "code",
   "metadata": {
    "ExecuteTime": {
     "end_time": "2024-04-25T19:15:12.734254Z",
     "start_time": "2024-04-25T19:15:12.696351Z"
    }
   },
   "source": [
    "#\n",
    "# Wczytanie obrazów źródłowych\n",
    "#\n",
    "# źródło grafiki colors.jpg: https://unsplash.com/photos/gT5kuls6Y6Q\n",
    "# źródło grafiki gacław-na-kuchni.jpg: własne\n",
    "#\n",
    "#image_from_file = cv2.imread('images/colors.jpg')\n",
    "image_from_file = cv2.imread('./images/kitty.jpg')\n",
    "image_gray = cv2.cvtColor(image_from_file, cv2.COLOR_BGR2GRAY)\n",
    "image_color = cv2.cvtColor(image_from_file, cv2.COLOR_BGR2RGB)\n",
    "print('Rozmiar obrazka: ', image_from_file.shape)"
   ],
   "outputs": [
    {
     "name": "stdout",
     "output_type": "stream",
     "text": [
      "Rozmiar obrazka:  (768, 1024, 3)\n"
     ]
    }
   ],
   "execution_count": 180
  },
  {
   "cell_type": "markdown",
   "metadata": {},
   "source": [
    "# Zadanie 1"
   ]
  },
  {
   "cell_type": "code",
   "metadata": {
    "ExecuteTime": {
     "end_time": "2024-04-25T19:15:14.949053Z",
     "start_time": "2024-04-25T19:15:12.736782Z"
    }
   },
   "source": [
    "output = numpy.copy(image_gray)\n",
    "\n",
    "\n",
    "#\n",
    "# Algorytm\n",
    "#\n",
    "\n",
    "def clamp(val, min_val=0, max_val=255) -> float:\n",
    "    return min(max(val, min_val), max_val)\n",
    "\n",
    "def find_closest_pixel(val, k):\n",
    "    return clamp(round((k - 1) * val / 255) * 255 / (k - 1))\n",
    "    \n",
    "\n",
    "def floyd_steinberg_single_channel(grey_img, k=3) -> None:\n",
    "    for y in range(grey_img.shape[0]):\n",
    "        for x in range(grey_img.shape[1]):\n",
    "            old_pixel = grey_img[y][x]\n",
    "            new_pixel = find_closest_pixel(old_pixel, k)\n",
    "            grey_img[y][x] = np.uint8(new_pixel)\n",
    "            quent_error = old_pixel - new_pixel\n",
    "            if x + 1 < grey_img.shape[1]:\n",
    "                grey_img[y][x + 1] = np.uint8(grey_img[y][x + 1] + quent_error * (7 / 16))\n",
    "            if y + 1 < grey_img.shape[0]:\n",
    "                grey_img[y + 1][x] = np.uint8(grey_img[y + 1][x] + quent_error * (5 / 16))\n",
    "                if x - 1 > 0:\n",
    "                    grey_img[y + 1][x - 1] = np.uint8(grey_img[y + 1][x - 1] + quent_error * (3 / 16))\n",
    "                if x + 1 < grey_img.shape[1]:   \n",
    "                    grey_img[y + 1][x + 1] = np.uint8(grey_img[y + 1][x + 1] + quent_error / 16)\n",
    "\n",
    "\n",
    "#\n",
    "# Wyświetlenie\n",
    "#\n",
    "floyd_steinberg_single_channel(output)\n",
    "pyplot.imshow(output, cmap='gray')"
   ],
   "outputs": [
    {
     "ename": "KeyboardInterrupt",
     "evalue": "",
     "output_type": "error",
     "traceback": [
      "\u001B[1;31m---------------------------------------------------------------------------\u001B[0m",
      "\u001B[1;31mKeyboardInterrupt\u001B[0m                         Traceback (most recent call last)",
      "Cell \u001B[1;32mIn[181], line 35\u001B[0m\n\u001B[0;32m     29\u001B[0m                     grey_img[y \u001B[38;5;241m+\u001B[39m \u001B[38;5;241m1\u001B[39m][x \u001B[38;5;241m+\u001B[39m \u001B[38;5;241m1\u001B[39m] \u001B[38;5;241m=\u001B[39m np\u001B[38;5;241m.\u001B[39muint8(grey_img[y \u001B[38;5;241m+\u001B[39m \u001B[38;5;241m1\u001B[39m][x \u001B[38;5;241m+\u001B[39m \u001B[38;5;241m1\u001B[39m] \u001B[38;5;241m+\u001B[39m quent_error \u001B[38;5;241m/\u001B[39m \u001B[38;5;241m16\u001B[39m)\n\u001B[0;32m     32\u001B[0m \u001B[38;5;66;03m#\u001B[39;00m\n\u001B[0;32m     33\u001B[0m \u001B[38;5;66;03m# Wyświetlenie\u001B[39;00m\n\u001B[0;32m     34\u001B[0m \u001B[38;5;66;03m#\u001B[39;00m\n\u001B[1;32m---> 35\u001B[0m \u001B[43mfloyd_steinberg_single_channel\u001B[49m\u001B[43m(\u001B[49m\u001B[43moutput\u001B[49m\u001B[43m)\u001B[49m\n\u001B[0;32m     36\u001B[0m pyplot\u001B[38;5;241m.\u001B[39mimshow(output, cmap\u001B[38;5;241m=\u001B[39m\u001B[38;5;124m'\u001B[39m\u001B[38;5;124mgray\u001B[39m\u001B[38;5;124m'\u001B[39m)\n",
      "Cell \u001B[1;32mIn[181], line 19\u001B[0m, in \u001B[0;36mfloyd_steinberg_single_channel\u001B[1;34m(grey_img, k)\u001B[0m\n\u001B[0;32m     17\u001B[0m \u001B[38;5;28;01mfor\u001B[39;00m x \u001B[38;5;129;01min\u001B[39;00m \u001B[38;5;28mrange\u001B[39m(grey_img\u001B[38;5;241m.\u001B[39mshape[\u001B[38;5;241m1\u001B[39m]):\n\u001B[0;32m     18\u001B[0m     old_pixel \u001B[38;5;241m=\u001B[39m grey_img[y][x]\n\u001B[1;32m---> 19\u001B[0m     new_pixel \u001B[38;5;241m=\u001B[39m \u001B[43mfind_closest_pixel\u001B[49m\u001B[43m(\u001B[49m\u001B[43mold_pixel\u001B[49m\u001B[43m,\u001B[49m\u001B[43m \u001B[49m\u001B[43mk\u001B[49m\u001B[43m)\u001B[49m\n\u001B[0;32m     20\u001B[0m     grey_img[y][x] \u001B[38;5;241m=\u001B[39m np\u001B[38;5;241m.\u001B[39muint8(new_pixel)\n\u001B[0;32m     21\u001B[0m     quent_error \u001B[38;5;241m=\u001B[39m old_pixel \u001B[38;5;241m-\u001B[39m new_pixel\n",
      "Cell \u001B[1;32mIn[181], line 12\u001B[0m, in \u001B[0;36mfind_closest_pixel\u001B[1;34m(val, k)\u001B[0m\n\u001B[0;32m     11\u001B[0m \u001B[38;5;28;01mdef\u001B[39;00m \u001B[38;5;21mfind_closest_pixel\u001B[39m(val, k):\n\u001B[1;32m---> 12\u001B[0m     \u001B[38;5;28;01mreturn\u001B[39;00m \u001B[43mclamp\u001B[49m\u001B[43m(\u001B[49m\u001B[38;5;28;43mround\u001B[39;49m\u001B[43m(\u001B[49m\u001B[43m(\u001B[49m\u001B[43mk\u001B[49m\u001B[43m \u001B[49m\u001B[38;5;241;43m-\u001B[39;49m\u001B[43m \u001B[49m\u001B[38;5;241;43m1\u001B[39;49m\u001B[43m)\u001B[49m\u001B[43m \u001B[49m\u001B[38;5;241;43m*\u001B[39;49m\u001B[43m \u001B[49m\u001B[43mval\u001B[49m\u001B[43m \u001B[49m\u001B[38;5;241;43m/\u001B[39;49m\u001B[43m \u001B[49m\u001B[38;5;241;43m255\u001B[39;49m\u001B[43m)\u001B[49m\u001B[43m \u001B[49m\u001B[38;5;241;43m*\u001B[39;49m\u001B[43m \u001B[49m\u001B[38;5;241;43m255\u001B[39;49m\u001B[43m \u001B[49m\u001B[38;5;241;43m/\u001B[39;49m\u001B[43m \u001B[49m\u001B[43m(\u001B[49m\u001B[43mk\u001B[49m\u001B[43m \u001B[49m\u001B[38;5;241;43m-\u001B[39;49m\u001B[43m \u001B[49m\u001B[38;5;241;43m1\u001B[39;49m\u001B[43m)\u001B[49m\u001B[43m)\u001B[49m\n",
      "Cell \u001B[1;32mIn[181], line 8\u001B[0m, in \u001B[0;36mclamp\u001B[1;34m(val, min_val, max_val)\u001B[0m\n\u001B[0;32m      1\u001B[0m output \u001B[38;5;241m=\u001B[39m numpy\u001B[38;5;241m.\u001B[39mcopy(image_gray)\n\u001B[0;32m      4\u001B[0m \u001B[38;5;66;03m#\u001B[39;00m\n\u001B[0;32m      5\u001B[0m \u001B[38;5;66;03m# Algorytm\u001B[39;00m\n\u001B[0;32m      6\u001B[0m \u001B[38;5;66;03m#\u001B[39;00m\n\u001B[1;32m----> 8\u001B[0m \u001B[38;5;28;01mdef\u001B[39;00m \u001B[38;5;21mclamp\u001B[39m(val, min_val\u001B[38;5;241m=\u001B[39m\u001B[38;5;241m0\u001B[39m, max_val\u001B[38;5;241m=\u001B[39m\u001B[38;5;241m255\u001B[39m) \u001B[38;5;241m-\u001B[39m\u001B[38;5;241m>\u001B[39m \u001B[38;5;28mfloat\u001B[39m:\n\u001B[0;32m      9\u001B[0m     \u001B[38;5;28;01mreturn\u001B[39;00m \u001B[38;5;28mmin\u001B[39m(\u001B[38;5;28mmax\u001B[39m(val, min_val), max_val)\n\u001B[0;32m     11\u001B[0m \u001B[38;5;28;01mdef\u001B[39;00m \u001B[38;5;21mfind_closest_pixel\u001B[39m(val, k):\n",
      "\u001B[1;31mKeyboardInterrupt\u001B[0m: "
     ]
    }
   ],
   "execution_count": 181
  },
  {
   "metadata": {},
   "cell_type": "code",
   "source": [
    "#\n",
    "# Histogram\n",
    "#\n",
    "histr = cv2.calcHist([output], [0], None, [256], [0, 256])\n",
    "pyplot.plot(histr)\n",
    "pyplot.xlim([-1, 256])\n",
    "pyplot.xlabel('Wartośc składowej koloru []')\n",
    "pyplot.ylabel('Liczba pikseli obrazu []')"
   ],
   "outputs": [],
   "execution_count": null
  },
  {
   "cell_type": "markdown",
   "metadata": {},
   "source": [
    "# Zadanie 2"
   ]
  },
  {
   "cell_type": "code",
   "metadata": {},
   "source": [
    "output = numpy.copy(image_color)\n",
    "\n",
    "#\n",
    "# Algorytm\n",
    "#\n",
    "\n",
    "def floyd_steinberg(transform_image, k=3):\n",
    "    floyd_steinberg_single_channel(transform_image[:, :, 0], k)\n",
    "    floyd_steinberg_single_channel(transform_image[:, :, 1], k)\n",
    "    floyd_steinberg_single_channel(transform_image[:, :, 2], k)\n",
    "\n",
    "#\n",
    "# Wyświetlenie\n",
    "#\n",
    "floyd_steinberg(output)\n",
    "pyplot.imshow(output)"
   ],
   "outputs": [],
   "execution_count": null
  },
  {
   "cell_type": "code",
   "metadata": {},
   "source": [
    "#\n",
    "# Histogram\n",
    "#\n",
    "color = ('r', 'g', 'b')\n",
    "\n",
    "for i, col in enumerate(color):\n",
    "    histr = cv2.calcHist([output], [i], None, [256], [0, 256])\n",
    "    pyplot.plot(histr, color=col)\n",
    "    pyplot.xlim([-1, 256])\n",
    "    pyplot.xlabel('Wartośc składowej koloru []')\n",
    "    pyplot.ylabel('Liczba pikseli obrazu []')"
   ],
   "outputs": [],
   "execution_count": null
  },
  {
   "cell_type": "markdown",
   "metadata": {},
   "source": [
    "# Zadanie 3"
   ]
  },
  {
   "cell_type": "code",
   "metadata": {},
   "source": [
    "#\n",
    "# Przygotowanie płótna\n",
    "#\n",
    "width = 80\n",
    "height = 60\n",
    "image = numpy.zeros((height, width, 3), dtype=numpy.uint8)\n",
    "\n",
    "\n",
    "#\n",
    "# Funkcja rysująca punkt\n",
    "#\n",
    "# NOTE(sdatko): punkt 0,0 to lewy dolny róg obrazu\n",
    "#\n",
    "def draw_point(image, x, y, color=(255, 255, 255)):\n",
    "    image[image.shape[0] - 1 - y, x, :] = color\n",
    "\n",
    "\n",
    "#\n",
    "# Funkcja rysująca linię\n",
    "#\n",
    "def draw_line(image, x1, y1, x2, y2):\n",
    "    pass  # TODO: implement\n",
    "\n",
    "\n",
    "#\n",
    "# Funkcja rysująca trójkąt\n",
    "#\n",
    "def draw_triangle(image, a, b, c):\n",
    "    pass  # TODO: implement\n",
    "\n",
    "\n",
    "#\n",
    "# Rysowanie\n",
    "#\n",
    "pass  # TODO: implement\n",
    "\n",
    "#\n",
    "# Wyświetlenie\n",
    "#\n",
    "pyplot.imshow(image)"
   ],
   "outputs": [],
   "execution_count": null
  },
  {
   "cell_type": "markdown",
   "metadata": {},
   "source": [
    "# Zadanie 4"
   ]
  },
  {
   "cell_type": "code",
   "metadata": {},
   "source": [
    "#\n",
    "# Przygotowanie płótna\n",
    "#\n",
    "width = 80\n",
    "height = 60\n",
    "image = numpy.zeros((height, width, 3), dtype=numpy.uint8)\n",
    "\n",
    "\n",
    "#\n",
    "# Funkcja rysująca punkt\n",
    "#\n",
    "# NOTE(sdatko): punkt 0,0 to lewy dolny róg obrazu\n",
    "#\n",
    "def draw_point(image, x, y, color=(255, 255, 255)):\n",
    "    image[image.shape[0] - 1 - y, x, :] = color\n",
    "\n",
    "\n",
    "#\n",
    "# Funkcja rysująca linię\n",
    "#\n",
    "def draw_line(image, x1, y1, x2, y2):\n",
    "    pass  # TODO: implement\n",
    "\n",
    "\n",
    "#\n",
    "# Funkcja rysująca trójkąt\n",
    "#\n",
    "def draw_triangle(image, a, b, c):\n",
    "    pass  # TODO: implement\n",
    "\n",
    "\n",
    "#\n",
    "# Rysowanie\n",
    "#\n",
    "pass  # TODO: implement\n",
    "\n",
    "#\n",
    "# Wyświetlenie\n",
    "#\n",
    "pyplot.imshow(image)"
   ],
   "outputs": [],
   "execution_count": null
  },
  {
   "cell_type": "markdown",
   "metadata": {},
   "source": [
    "# Zadanie 5"
   ]
  },
  {
   "cell_type": "code",
   "metadata": {},
   "source": [
    "#\n",
    "# Przygotowanie płótna\n",
    "#\n",
    "width = 80\n",
    "height = 60\n",
    "image = numpy.zeros((height, width, 3), dtype=numpy.uint8)\n",
    "\n",
    "\n",
    "#\n",
    "# Funkcja rysująca punkt\n",
    "#\n",
    "# NOTE(sdatko): punkt 0,0 to lewy dolny róg obrazu\n",
    "#\n",
    "def draw_point(image, x, y, color=(255, 255, 255)):\n",
    "    image[image.shape[0] - 1 - y, x, :] = color\n",
    "\n",
    "\n",
    "#\n",
    "# Funkcja rysująca linię\n",
    "#\n",
    "def draw_line(image, x1, y1, x2, y2):\n",
    "    pass  # TODO: implement\n",
    "\n",
    "\n",
    "#\n",
    "# Funkcja rysująca trójkąt\n",
    "#\n",
    "def draw_triangle(image, a, b, c):\n",
    "    pass  # TODO: implement\n",
    "\n",
    "\n",
    "#\n",
    "# Rysowanie\n",
    "#\n",
    "pass  # TODO: implement\n",
    "\n",
    "#\n",
    "# Wyświetlenie\n",
    "#\n",
    "pyplot.imshow(image)"
   ],
   "outputs": [],
   "execution_count": null
  }
 ],
 "metadata": {
  "kernelspec": {
   "display_name": "Python 3",
   "language": "python",
   "name": "python3"
  },
  "language_info": {
   "codemirror_mode": {
    "name": "ipython",
    "version": 3
   },
   "file_extension": ".py",
   "mimetype": "text/x-python",
   "name": "python",
   "nbconvert_exporter": "python",
   "pygments_lexer": "ipython3",
   "version": "3.9.4"
  }
 },
 "nbformat": 4,
 "nbformat_minor": 4
}
