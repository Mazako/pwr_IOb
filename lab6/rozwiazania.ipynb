{
 "cells": [
  {
   "cell_type": "code",
   "metadata": {
    "ExecuteTime": {
     "end_time": "2024-04-26T14:31:58.067256Z",
     "start_time": "2024-04-26T14:31:57.248719Z"
    }
   },
   "source": [
    "import math\n",
    "\n",
    "import cv2\n",
    "import numpy\n",
    "import numpy as np\n",
    "from matplotlib import pyplot\n",
    "\n",
    "# Ustawienie rozmarów wyświetlanych obrazów\n",
    "pyplot.rcParams[\"figure.figsize\"] = (18, 10)"
   ],
   "outputs": [],
   "execution_count": 1
  },
  {
   "cell_type": "code",
   "metadata": {
    "ExecuteTime": {
     "end_time": "2024-04-26T14:31:58.113438Z",
     "start_time": "2024-04-26T14:31:58.069281Z"
    }
   },
   "source": [
    "#\n",
    "# Wczytanie obrazów źródłowych\n",
    "#\n",
    "# źródło grafiki colors.jpg: https://unsplash.com/photos/gT5kuls6Y6Q\n",
    "# źródło grafiki gacław-na-kuchni.jpg: własne\n",
    "#\n",
    "#image_from_file = cv2.imread('images/colors.jpg')\n",
    "image_from_file = cv2.imread('./images/kitty.jpg')\n",
    "image_gray = cv2.cvtColor(image_from_file, cv2.COLOR_BGR2GRAY)\n",
    "image_color = cv2.cvtColor(image_from_file, cv2.COLOR_BGR2RGB)\n",
    "print('Rozmiar obrazka: ', image_from_file.shape)"
   ],
   "outputs": [
    {
     "name": "stdout",
     "output_type": "stream",
     "text": [
      "Rozmiar obrazka:  (768, 1024, 3)\n"
     ]
    }
   ],
   "execution_count": 2
  },
  {
   "cell_type": "markdown",
   "metadata": {},
   "source": [
    "# Zadanie 1"
   ]
  },
  {
   "cell_type": "code",
   "metadata": {
    "ExecuteTime": {
     "end_time": "2024-04-26T14:32:05.062784Z",
     "start_time": "2024-04-26T14:31:58.115450Z"
    }
   },
   "source": [
    "output = numpy.copy(image_gray)\n",
    "\n",
    "\n",
    "#\n",
    "# Algorytm\n",
    "#\n",
    "\n",
    "def clamp(val, min_val=0, max_val=255) -> float:\n",
    "    return min(max(val, min_val), max_val)\n",
    "\n",
    "\n",
    "def find_closest_pixel(val, k):\n",
    "    return clamp(round((k - 1) * val / 255) * 255 / (k - 1))\n",
    "\n",
    "\n",
    "def floyd_steinberg_single_channel(grey_img, k=3) -> None:\n",
    "    for y in range(grey_img.shape[0]):\n",
    "        for x in range(grey_img.shape[1]):\n",
    "            old_pixel = grey_img[y][x]\n",
    "            new_pixel = find_closest_pixel(old_pixel, k)\n",
    "            grey_img[y][x] = np.uint8(new_pixel)\n",
    "            quent_error = old_pixel - new_pixel\n",
    "            if x + 1 < grey_img.shape[1]:\n",
    "                grey_img[y][x + 1] = np.uint8(grey_img[y][x + 1] + quent_error * (7 / 16))\n",
    "            if y + 1 < grey_img.shape[0]:\n",
    "                grey_img[y + 1][x] = np.uint8(grey_img[y + 1][x] + quent_error * (5 / 16))\n",
    "                if x - 1 > 0:\n",
    "                    grey_img[y + 1][x - 1] = np.uint8(grey_img[y + 1][x - 1] + quent_error * (3 / 16))\n",
    "                if x + 1 < grey_img.shape[1]:\n",
    "                    grey_img[y + 1][x + 1] = np.uint8(grey_img[y + 1][x + 1] + quent_error / 16)\n",
    "\n",
    "\n",
    "#\n",
    "# Wyświetlenie\n",
    "#\n",
    "floyd_steinberg_single_channel(output)\n",
    "pyplot.imshow(output, cmap='gray')"
   ],
   "outputs": [
    {
     "ename": "KeyboardInterrupt",
     "evalue": "",
     "output_type": "error",
     "traceback": [
      "\u001B[1;31m---------------------------------------------------------------------------\u001B[0m",
      "\u001B[1;31mKeyboardInterrupt\u001B[0m                         Traceback (most recent call last)",
      "Cell \u001B[1;32mIn[3], line 36\u001B[0m\n\u001B[0;32m     30\u001B[0m                     grey_img[y \u001B[38;5;241m+\u001B[39m \u001B[38;5;241m1\u001B[39m][x \u001B[38;5;241m+\u001B[39m \u001B[38;5;241m1\u001B[39m] \u001B[38;5;241m=\u001B[39m np\u001B[38;5;241m.\u001B[39muint8(grey_img[y \u001B[38;5;241m+\u001B[39m \u001B[38;5;241m1\u001B[39m][x \u001B[38;5;241m+\u001B[39m \u001B[38;5;241m1\u001B[39m] \u001B[38;5;241m+\u001B[39m quent_error \u001B[38;5;241m/\u001B[39m \u001B[38;5;241m16\u001B[39m)\n\u001B[0;32m     33\u001B[0m \u001B[38;5;66;03m#\u001B[39;00m\n\u001B[0;32m     34\u001B[0m \u001B[38;5;66;03m# Wyświetlenie\u001B[39;00m\n\u001B[0;32m     35\u001B[0m \u001B[38;5;66;03m#\u001B[39;00m\n\u001B[1;32m---> 36\u001B[0m \u001B[43mfloyd_steinberg_single_channel\u001B[49m\u001B[43m(\u001B[49m\u001B[43moutput\u001B[49m\u001B[43m)\u001B[49m\n\u001B[0;32m     37\u001B[0m pyplot\u001B[38;5;241m.\u001B[39mimshow(output, cmap\u001B[38;5;241m=\u001B[39m\u001B[38;5;124m'\u001B[39m\u001B[38;5;124mgray\u001B[39m\u001B[38;5;124m'\u001B[39m)\n",
      "Cell \u001B[1;32mIn[3], line -1\u001B[0m, in \u001B[0;36mfloyd_steinberg_single_channel\u001B[1;34m(grey_img, k)\u001B[0m\n\u001B[0;32m      0\u001B[0m <Error retrieving source code with stack_data see ipython/ipython#13598>\n",
      "\u001B[1;31mKeyboardInterrupt\u001B[0m: "
     ]
    }
   ],
   "execution_count": 3
  },
  {
   "metadata": {
    "ExecuteTime": {
     "end_time": "2024-04-26T14:32:05.065303Z",
     "start_time": "2024-04-26T14:32:05.064302Z"
    }
   },
   "cell_type": "code",
   "source": [
    "#\n",
    "# Histogram\n",
    "#\n",
    "histr = cv2.calcHist([output], [0], None, [256], [0, 256])\n",
    "pyplot.plot(histr)\n",
    "pyplot.xlim([-1, 256])\n",
    "pyplot.xlabel('Wartośc składowej koloru []')\n",
    "pyplot.ylabel('Liczba pikseli obrazu []')"
   ],
   "outputs": [],
   "execution_count": null
  },
  {
   "cell_type": "markdown",
   "metadata": {},
   "source": [
    "# Zadanie 2"
   ]
  },
  {
   "cell_type": "code",
   "metadata": {},
   "source": [
    "output = numpy.copy(image_color)\n",
    "\n",
    "\n",
    "#\n",
    "# Algorytm\n",
    "#\n",
    "\n",
    "def floyd_steinberg(transform_image, k=3):\n",
    "    floyd_steinberg_single_channel(transform_image[:, :, 0], k)\n",
    "    floyd_steinberg_single_channel(transform_image[:, :, 1], k)\n",
    "    floyd_steinberg_single_channel(transform_image[:, :, 2], k)\n",
    "\n",
    "\n",
    "#\n",
    "# Wyświetlenie\n",
    "#\n",
    "floyd_steinberg(output)\n",
    "pyplot.imshow(output)"
   ],
   "outputs": [],
   "execution_count": null
  },
  {
   "cell_type": "code",
   "metadata": {},
   "source": [
    "#\n",
    "# Histogram\n",
    "#\n",
    "color = ('r', 'g', 'b')\n",
    "\n",
    "for i, col in enumerate(color):\n",
    "    histr = cv2.calcHist([output], [i], None, [256], [0, 256])\n",
    "    pyplot.plot(histr, color=col)\n",
    "    pyplot.xlim([-1, 256])\n",
    "    pyplot.xlabel('Wartośc składowej koloru []')\n",
    "    pyplot.ylabel('Liczba pikseli obrazu []')"
   ],
   "outputs": [],
   "execution_count": null
  },
  {
   "cell_type": "markdown",
   "metadata": {},
   "source": [
    "# Zadanie 3"
   ]
  },
  {
   "cell_type": "code",
   "metadata": {
    "jupyter": {
     "is_executing": true
    },
    "ExecuteTime": {
     "start_time": "2024-04-26T14:33:05.008547Z"
    }
   },
   "source": [
    "#\n",
    "# Przygotowanie płótna\n",
    "#\n",
    "width = 80\n",
    "height = 60\n",
    "image = numpy.zeros((height, width, 3), dtype=numpy.uint8)\n",
    "\n",
    "\n",
    "#\n",
    "# Funkcja rysująca punkt\n",
    "#\n",
    "# NOTE(sdatko): punkt 0,0 to lewy dolny róg obrazu\n",
    "#\n",
    "def draw_point(image, x, y, color=(255, 255, 255)):\n",
    "    image[image.shape[0] - 1 - y, x, :] = color\n",
    "\n",
    "\n",
    "#\n",
    "# Funkcja rysująca linię\n",
    "#\n",
    "def draw_line(image, x1, y1, x2, y2):\n",
    "    delta_x, delta_y = int(math.fabs(x2 - x1)), int(math.fabs(y2 - y1))\n",
    "    x_i, y_i = np.sign(x2 - x1), np.sign(y2 - y1)\n",
    "    if delta_x > delta_y:\n",
    "        d = 2 * delta_y - delta_x\n",
    "    else:\n",
    "        d = 2 * delta_x - delta_y\n",
    "    current_x, current_y = x1, y1\n",
    "    draw_point(image, current_x, current_y)\n",
    "\n",
    "    while current_x != x2 or current_y != y2:\n",
    "        if delta_x > delta_y:\n",
    "            current_x += x_i\n",
    "            d += 2 * delta_y\n",
    "        if delta_y > delta_x:\n",
    "            current_y += y_i\n",
    "            d += 2 * delta_x\n",
    "        if d >= 0:\n",
    "            if delta_x > delta_y:\n",
    "                current_y += y_i\n",
    "                d -= 2 * delta_x\n",
    "            if delta_y > delta_x:\n",
    "                current_x += x_i\n",
    "                d -= 2 * delta_y\n",
    "        draw_point(image, current_x, current_y)\n",
    "\n",
    "\n",
    "#\n",
    "# Funkcja rysująca trójkąt\n",
    "#\n",
    "def area_of_triangle(a, b, c):\n",
    "    return (c[0] - a[0]) * (b[1] - a[1]) - (c[1] - a[1]) * (b[0] - a[0])\n",
    "\n",
    "\n",
    "def is_point_in_triangle(p, a, b, c):\n",
    "    a_1 = area_of_triangle(a, b, p)\n",
    "    a_2 = area_of_triangle(b, c, p)\n",
    "    a_3 = area_of_triangle(c, a, p)\n",
    "\n",
    "    if a_1 == 0 or a_2 == 0 or a_3 == 0:\n",
    "        return True\n",
    "\n",
    "    sign = np.sign(a_1) + np.sign(a_2) + np.sign(a_3)\n",
    "    return math.fabs(sign) == 3\n",
    "\n",
    "\n",
    "def draw_triangle(image, a, b, c):\n",
    "    x_min = min(a[0], b[0], c[0])\n",
    "    x_max = max(a[0], b[0], c[0])\n",
    "    y_min = min(a[1], b[1], c[1])\n",
    "    y_max = max(a[1], b[1], c[1])\n",
    "    \n",
    "    for y in range(image.shape[0]):\n",
    "        for x in range(image.shape[1]):\n",
    "            if x_min <= x <= x_max and y_min <= y <= y_max and is_point_in_triangle((x, y), a, b, c):\n",
    "                draw_point(image, x, y)\n",
    "\n",
    "\n",
    "#\n",
    "# Rysowanie\n",
    "#\n",
    "draw_line(image, 0, 0, 20, 20)\n",
    "draw_triangle(image, (0, 30), (25, 0), (50, 50))\n",
    "#\n",
    "# Wyświetlenie\n",
    "#\n",
    "pyplot.imshow(image)"
   ],
   "outputs": [],
   "execution_count": null
  },
  {
   "cell_type": "markdown",
   "metadata": {},
   "source": [
    "# Zadanie 4"
   ]
  },
  {
   "cell_type": "code",
   "metadata": {
    "ExecuteTime": {
     "end_time": "2024-04-26T14:32:39.966842Z",
     "start_time": "2024-04-26T14:32:10.089230Z"
    }
   },
   "source": [
    "#\n",
    "# Przygotowanie płótna\n",
    "#\n",
    "width = 80\n",
    "height = 60\n",
    "image = numpy.zeros((height, width, 3), dtype=numpy.uint8)\n",
    "\n",
    "\n",
    "#\n",
    "# Funkcja rysująca punkt\n",
    "#\n",
    "# NOTE(sdatko): punkt 0,0 to lewy dolny róg obrazu\n",
    "#\n",
    "def draw_point(image, x, y, color=(255, 255, 255)):\n",
    "    image[image.shape[0] - 1 - y, x, :] = color\n",
    "\n",
    "\n",
    "#\n",
    "# Funkcja rysująca linię\n",
    "#\n",
    "def draw_line(image, x1, y1, x2, y2, c1, c2):\n",
    "    delta_x, delta_y = int(math.fabs(x2 - x1)), int(math.fabs(y2 - y1))\n",
    "    x_i, y_i = np.sign(x2 - x1), np.sign(y2 - y1)\n",
    "    \n",
    "    points = []\n",
    "    \n",
    "    if delta_x > delta_y:\n",
    "        d = 2 * delta_y - delta_x\n",
    "    else:\n",
    "        d = 2 * delta_x - delta_y\n",
    "    \n",
    "    current_x, current_y = x1, y1\n",
    "    points.append((current_x, current_y))\n",
    "    while current_x != x2 or current_y != y2:\n",
    "        if delta_x > delta_y:\n",
    "            current_x += x_i\n",
    "            d += 2 * delta_y\n",
    "        if delta_y > delta_x:\n",
    "            current_y += y_i\n",
    "            d += 2 * delta_x\n",
    "        if d >= 0:\n",
    "            if delta_x > delta_y:\n",
    "                current_y += y_i\n",
    "                d -= 2 * delta_x\n",
    "            if delta_y > delta_x:\n",
    "                current_x += x_i\n",
    "                d -= 2 * delta_y\n",
    "        points.append((current_x, current_y))\n",
    "    t_space = np.linspace(0, 1, len(points))\n",
    "    colors = [c1 + t * (c2 - c1) for t in t_space]\n",
    "    # for point, color in (points, colors):\n",
    "    #     draw_point(image, point[0], point[1], color)\n",
    "\n",
    "#\n",
    "# Funkcja rysująca trójkąt\n",
    "#\n",
    "def draw_triangle(image, a, b, c):\n",
    "    pass  # TODO: implement\n",
    "\n",
    "\n",
    "#\n",
    "# Rysowanie\n",
    "#\n",
    "\n",
    "draw_line(image, 0, 0, 50, 50, np.array([255, 0, 0]), np.array([0, 0, 255]))\n",
    "\n",
    "#\n",
    "# Wyświetlenie\n",
    "#\n",
    "pyplot.imshow(image)"
   ],
   "outputs": [
    {
     "ename": "KeyboardInterrupt",
     "evalue": "",
     "output_type": "error",
     "traceback": [
      "\u001B[1;31m---------------------------------------------------------------------------\u001B[0m",
      "\u001B[1;31mKeyboardInterrupt\u001B[0m                         Traceback (most recent call last)",
      "Cell \u001B[1;32mIn[4], line 65\u001B[0m\n\u001B[0;32m     58\u001B[0m     \u001B[38;5;28;01mpass\u001B[39;00m  \u001B[38;5;66;03m# TODO: implement\u001B[39;00m\n\u001B[0;32m     61\u001B[0m \u001B[38;5;66;03m#\u001B[39;00m\n\u001B[0;32m     62\u001B[0m \u001B[38;5;66;03m# Rysowanie\u001B[39;00m\n\u001B[0;32m     63\u001B[0m \u001B[38;5;66;03m#\u001B[39;00m\n\u001B[1;32m---> 65\u001B[0m \u001B[43mdraw_line\u001B[49m\u001B[43m(\u001B[49m\u001B[43mimage\u001B[49m\u001B[43m,\u001B[49m\u001B[43m \u001B[49m\u001B[38;5;241;43m0\u001B[39;49m\u001B[43m,\u001B[49m\u001B[43m \u001B[49m\u001B[38;5;241;43m0\u001B[39;49m\u001B[43m,\u001B[49m\u001B[43m \u001B[49m\u001B[38;5;241;43m50\u001B[39;49m\u001B[43m,\u001B[49m\u001B[43m \u001B[49m\u001B[38;5;241;43m50\u001B[39;49m\u001B[43m,\u001B[49m\u001B[43m \u001B[49m\u001B[43mnp\u001B[49m\u001B[38;5;241;43m.\u001B[39;49m\u001B[43marray\u001B[49m\u001B[43m(\u001B[49m\u001B[43m[\u001B[49m\u001B[38;5;241;43m255\u001B[39;49m\u001B[43m,\u001B[49m\u001B[43m \u001B[49m\u001B[38;5;241;43m0\u001B[39;49m\u001B[43m,\u001B[49m\u001B[43m \u001B[49m\u001B[38;5;241;43m0\u001B[39;49m\u001B[43m]\u001B[49m\u001B[43m)\u001B[49m\u001B[43m,\u001B[49m\u001B[43m \u001B[49m\u001B[43mnp\u001B[49m\u001B[38;5;241;43m.\u001B[39;49m\u001B[43marray\u001B[49m\u001B[43m(\u001B[49m\u001B[43m[\u001B[49m\u001B[38;5;241;43m0\u001B[39;49m\u001B[43m,\u001B[49m\u001B[43m \u001B[49m\u001B[38;5;241;43m0\u001B[39;49m\u001B[43m,\u001B[49m\u001B[43m \u001B[49m\u001B[38;5;241;43m255\u001B[39;49m\u001B[43m]\u001B[49m\u001B[43m)\u001B[49m\u001B[43m)\u001B[49m\n\u001B[0;32m     67\u001B[0m \u001B[38;5;66;03m#\u001B[39;00m\n\u001B[0;32m     68\u001B[0m \u001B[38;5;66;03m# Wyświetlenie\u001B[39;00m\n\u001B[0;32m     69\u001B[0m \u001B[38;5;66;03m#\u001B[39;00m\n\u001B[0;32m     70\u001B[0m pyplot\u001B[38;5;241m.\u001B[39mimshow(image)\n",
      "Cell \u001B[1;32mIn[4], line 34\u001B[0m, in \u001B[0;36mdraw_line\u001B[1;34m(image, x1, y1, x2, y2, c1, c2)\u001B[0m\n\u001B[0;32m     32\u001B[0m current_x, current_y \u001B[38;5;241m=\u001B[39m x1, y1\n\u001B[0;32m     33\u001B[0m points\u001B[38;5;241m.\u001B[39mappend((current_x, current_y))\n\u001B[1;32m---> 34\u001B[0m \u001B[38;5;28;01mwhile\u001B[39;00m \u001B[43mcurrent_x\u001B[49m\u001B[43m \u001B[49m\u001B[38;5;241;43m!=\u001B[39;49m\u001B[43m \u001B[49m\u001B[43mx2\u001B[49m \u001B[38;5;129;01mor\u001B[39;00m current_y \u001B[38;5;241m!=\u001B[39m y2:\n\u001B[0;32m     35\u001B[0m     \u001B[38;5;28;01mif\u001B[39;00m delta_x \u001B[38;5;241m>\u001B[39m delta_y:\n\u001B[0;32m     36\u001B[0m         current_x \u001B[38;5;241m+\u001B[39m\u001B[38;5;241m=\u001B[39m x_i\n",
      "\u001B[1;31mKeyboardInterrupt\u001B[0m: "
     ]
    }
   ],
   "execution_count": 4
  },
  {
   "cell_type": "markdown",
   "metadata": {},
   "source": [
    "# Zadanie 5"
   ]
  },
  {
   "cell_type": "code",
   "metadata": {},
   "source": [
    "#\n",
    "# Przygotowanie płótna\n",
    "#\n",
    "width = 80\n",
    "height = 60\n",
    "image = numpy.zeros((height, width, 3), dtype=numpy.uint8)\n",
    "\n",
    "\n",
    "#\n",
    "# Funkcja rysująca punkt\n",
    "#\n",
    "# NOTE(sdatko): punkt 0,0 to lewy dolny róg obrazu\n",
    "#\n",
    "def draw_point(image, x, y, color=(255, 255, 255)):\n",
    "    image[image.shape[0] - 1 - y, x, :] = color\n",
    "\n",
    "\n",
    "#\n",
    "# Funkcja rysująca linię\n",
    "#\n",
    "def draw_line(image, x1, y1, x2, y2):\n",
    "    pass  # TODO: implement\n",
    "\n",
    "\n",
    "#\n",
    "# Funkcja rysująca trójkąt\n",
    "#\n",
    "def draw_triangle(image, a, b, c):\n",
    "    pass  # TODO: implement\n",
    "\n",
    "\n",
    "#\n",
    "# Rysowanie\n",
    "#\n",
    "pass  # TODO: implement\n",
    "\n",
    "#\n",
    "# Wyświetlenie\n",
    "#\n",
    "pyplot.imshow(image)"
   ],
   "outputs": [],
   "execution_count": null
  }
 ],
 "metadata": {
  "kernelspec": {
   "display_name": "Python 3",
   "language": "python",
   "name": "python3"
  },
  "language_info": {
   "codemirror_mode": {
    "name": "ipython",
    "version": 3
   },
   "file_extension": ".py",
   "mimetype": "text/x-python",
   "name": "python",
   "nbconvert_exporter": "python",
   "pygments_lexer": "ipython3",
   "version": "3.9.4"
  }
 },
 "nbformat": 4,
 "nbformat_minor": 4
}
